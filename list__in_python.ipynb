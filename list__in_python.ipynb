{
 "cells": [
  {
   "cell_type": "code",
   "execution_count": 1,
   "id": "a7ab84bc",
   "metadata": {},
   "outputs": [
    {
     "data": {
      "text/plain": [
       "[]"
      ]
     },
     "execution_count": 1,
     "metadata": {},
     "output_type": "execute_result"
    }
   ],
   "source": [
    "# Declare an empty list\n",
    "\n",
    "empty_lst = list()\n",
    "empty_lst"
   ]
  },
  {
   "cell_type": "code",
   "execution_count": 5,
   "id": "52bc66ec",
   "metadata": {},
   "outputs": [
    {
     "data": {
      "text/plain": [
       "['HTML', 'JAVA', 'JS', 'CSS', 'PYTHON', 'REACT', 'C']"
      ]
     },
     "execution_count": 5,
     "metadata": {},
     "output_type": "execute_result"
    }
   ],
   "source": [
    "# Declare a list with more than 5 items\n",
    "\n",
    "lang = ['HTML' , 'JAVA' , 'JS' , 'CSS' , 'PYTHON' , 'REACT' ,'C']\n",
    "lang"
   ]
  },
  {
   "cell_type": "code",
   "execution_count": 6,
   "id": "264d215a",
   "metadata": {},
   "outputs": [
    {
     "name": "stdout",
     "output_type": "stream",
     "text": [
      "7\n"
     ]
    }
   ],
   "source": [
    "# Find the length of your list\n",
    "\n",
    "print(len(lang))"
   ]
  },
  {
   "cell_type": "code",
   "execution_count": 13,
   "id": "1faa51e0",
   "metadata": {},
   "outputs": [
    {
     "name": "stdout",
     "output_type": "stream",
     "text": [
      "HTML\n",
      "CSS\n",
      "C\n"
     ]
    }
   ],
   "source": [
    "# Get the first item, the middle item and the last item of the list\n",
    "\n",
    "print(lang[0])\n",
    "print(lang[3])\n",
    "print(lang[-1])"
   ]
  },
  {
   "cell_type": "code",
   "execution_count": 15,
   "id": "f5a83682",
   "metadata": {},
   "outputs": [
    {
     "data": {
      "text/plain": [
       "['Bhawna', 20, 4.1, 'Single', 'Himachal Pradesh']"
      ]
     },
     "execution_count": 15,
     "metadata": {},
     "output_type": "execute_result"
    }
   ],
   "source": [
    "# Declare a list called mixed_data_types, put your(name, age, height, marital status, address)\n",
    "\n",
    "name = 'Bhawna'\n",
    "age = 20\n",
    "height = 4.10\n",
    "marital_status = 'Single'\n",
    "address = 'Himachal Pradesh'\n",
    "mixed_data_types = [name , age , height , marital_status , address]\n",
    "mixed_data_types"
   ]
  },
  {
   "cell_type": "code",
   "execution_count": 220,
   "id": "af725bc4",
   "metadata": {},
   "outputs": [],
   "source": [
    "# Declare a list variable named it_companies and assign initial values Facebook, Google, Microsoft, Apple, IBM, Oracle and Amazon\n",
    "\n",
    "it_companies =['Facebook' , 'Google' , 'Microsoft' , 'Apple' , 'IBM' , 'Oracle' , 'Amazon']"
   ]
  },
  {
   "cell_type": "code",
   "execution_count": 221,
   "id": "dbb39a05",
   "metadata": {},
   "outputs": [
    {
     "name": "stdout",
     "output_type": "stream",
     "text": [
      "7\n"
     ]
    }
   ],
   "source": [
    "# Print the list using print()\n",
    "\n",
    "\n",
    "print(len(it_companies))"
   ]
  },
  {
   "cell_type": "code",
   "execution_count": 222,
   "id": "034702c9",
   "metadata": {},
   "outputs": [
    {
     "name": "stdout",
     "output_type": "stream",
     "text": [
      "The number of companies in the list: 7\n"
     ]
    }
   ],
   "source": [
    "# Print the number of companies in the list\n",
    "\n",
    "print('The number of companies in the list:', len(it_companies))"
   ]
  },
  {
   "cell_type": "code",
   "execution_count": 223,
   "id": "95a1b896",
   "metadata": {},
   "outputs": [
    {
     "name": "stdout",
     "output_type": "stream",
     "text": [
      "['Facebook', 'Apple', 'Amazon']\n"
     ]
    }
   ],
   "source": [
    "# Print the first, middle and last company\n",
    "\n",
    "print(it_companies[0::3])"
   ]
  },
  {
   "cell_type": "code",
   "execution_count": 224,
   "id": "7e12c6a0",
   "metadata": {},
   "outputs": [
    {
     "data": {
      "text/plain": [
       "['Amazon', 'Google', 'Microsoft', 'Apple', 'IBM', 'Oracle', 'Facebook']"
      ]
     },
     "execution_count": 224,
     "metadata": {},
     "output_type": "execute_result"
    }
   ],
   "source": [
    "# Print the list after modifying one of the companies\n",
    "\n",
    "\n",
    "it_companies[0] = 'Amazon'\n",
    "it_companies[-1] = 'Facebook'\n",
    "it_companies"
   ]
  },
  {
   "cell_type": "code",
   "execution_count": 225,
   "id": "3f7d8f62",
   "metadata": {},
   "outputs": [
    {
     "name": "stdout",
     "output_type": "stream",
     "text": [
      "['Amazon', 'Google', 'Microsoft', 'Apple', 'IBM', 'Oracle', 'Facebook', 'IT company']\n"
     ]
    }
   ],
   "source": [
    "# Add an IT company to it_companies\n",
    "\n",
    "it_companies.append('IT company')\n",
    "print(it_companies)"
   ]
  },
  {
   "cell_type": "code",
   "execution_count": 226,
   "id": "57359293",
   "metadata": {},
   "outputs": [
    {
     "name": "stdout",
     "output_type": "stream",
     "text": [
      "['Amazon', 'Google', 'Microsoft', 'Apple', 'IT company', 'IBM', 'Oracle', 'Facebook', 'IT company']\n"
     ]
    }
   ],
   "source": [
    "# Insert an IT company in the middle of the companies list\n",
    "\n",
    "\n",
    "it_companies.insert(4,'IT company')\n",
    "print(it_companies)"
   ]
  },
  {
   "cell_type": "code",
   "execution_count": 178,
   "id": "c3985076",
   "metadata": {},
   "outputs": [
    {
     "name": "stdout",
     "output_type": "stream",
     "text": [
      "['Amazon', 'Google', 'Microsoft', 'Apple', 'IT company', 'IBM', 'Oracle', 'Facebook', 'IT company']\n"
     ]
    }
   ],
   "source": [
    "print(it_companies)"
   ]
  },
  {
   "cell_type": "code",
   "execution_count": 103,
   "id": "c00f773d",
   "metadata": {},
   "outputs": [
    {
     "name": "stdout",
     "output_type": "stream",
     "text": [
      "APPLE\n"
     ]
    }
   ],
   "source": [
    "# Change one of the it_companies names to uppercase (IBM excluded!)\n",
    "\n",
    "it_companies = ('Apple'.upper())\n",
    "print(it_companies)"
   ]
  },
  {
   "cell_type": "code",
   "execution_count": 136,
   "id": "bb683b78",
   "metadata": {},
   "outputs": [
    {
     "name": "stdout",
     "output_type": "stream",
     "text": [
      "['Amazon', 'Google', 'Microsoft', 'Apple', 'IT company', 'IBM', 'Oracle', 'Facebook', 'IT company']\n"
     ]
    }
   ],
   "source": [
    "print(it_companies)"
   ]
  },
  {
   "cell_type": "code",
   "execution_count": 137,
   "id": "9481ff5d",
   "metadata": {},
   "outputs": [
    {
     "name": "stdout",
     "output_type": "stream",
     "text": [
      "['Amazon', 'Google', 'Microsoft']\n"
     ]
    }
   ],
   "source": [
    "# Slice out the first 3 companies from the list\n",
    "\n",
    "print(it_companies[0:3])"
   ]
  },
  {
   "cell_type": "code",
   "execution_count": 138,
   "id": "389a80e1",
   "metadata": {},
   "outputs": [
    {
     "name": "stdout",
     "output_type": "stream",
     "text": [
      "['Oracle', 'Facebook', 'IT company']\n"
     ]
    }
   ],
   "source": [
    "# Slice out the last 3 companies from the list\n",
    "\n",
    "print(it_companies[-3:])"
   ]
  },
  {
   "cell_type": "code",
   "execution_count": 151,
   "id": "0dce99ef",
   "metadata": {},
   "outputs": [
    {
     "name": "stdout",
     "output_type": "stream",
     "text": [
      "IT company\n",
      "['Apple', 'IT company', 'IBM']\n"
     ]
    }
   ],
   "source": [
    "# Slice out the middle IT company or companies from the list\n",
    "\n",
    "print(it_companies[4])\n",
    "print(it_companies[3:6])"
   ]
  },
  {
   "cell_type": "code",
   "execution_count": 218,
   "id": "01eaef85",
   "metadata": {},
   "outputs": [
    {
     "name": "stdout",
     "output_type": "stream",
     "text": [
      "['HTML', 'CSS', 'JS', 'React', 'Redux', 'Node', 'Express', 'MongoDB']\n"
     ]
    }
   ],
   "source": [
    "# Join the following lists:\n",
    "\n",
    "front_end = ['HTML', 'CSS', 'JS', 'React', 'Redux']\n",
    "back_end = ['Node','Express', 'MongoDB']\n",
    "web_dev = front_end + back_end\n",
    "print(web_dev)"
   ]
  },
  {
   "cell_type": "code",
   "execution_count": 229,
   "id": "328434f5",
   "metadata": {},
   "outputs": [
    {
     "name": "stdout",
     "output_type": "stream",
     "text": [
      "['Amazon', 'Google', 'Microsoft', 'Apple', 'IT company', 'IBM', 'Oracle', 'Facebook', 'IT company']\n"
     ]
    }
   ],
   "source": [
    "print(it_companies)"
   ]
  },
  {
   "cell_type": "code",
   "execution_count": 230,
   "id": "a3c70c8c",
   "metadata": {},
   "outputs": [
    {
     "name": "stdout",
     "output_type": "stream",
     "text": [
      "['Google', 'Microsoft', 'Apple', 'IT company', 'IBM', 'Oracle', 'Facebook', 'IT company']\n"
     ]
    }
   ],
   "source": [
    "# Remove the first IT company from the list\n",
    "\n",
    "it_companies.remove('Amazon')\n",
    "print(it_companies)"
   ]
  },
  {
   "cell_type": "code",
   "execution_count": 231,
   "id": "6fd46986",
   "metadata": {},
   "outputs": [
    {
     "name": "stdout",
     "output_type": "stream",
     "text": [
      "['Google', 'Microsoft', 'Apple', 'IBM', 'Oracle', 'Facebook', 'IT company']\n"
     ]
    }
   ],
   "source": [
    "# Remove the middle IT company or companies from the list\n",
    "\n",
    "it_companies.pop(3)\n",
    "print(it_companies)"
   ]
  },
  {
   "cell_type": "code",
   "execution_count": 232,
   "id": "1b0e1e77",
   "metadata": {},
   "outputs": [
    {
     "name": "stdout",
     "output_type": "stream",
     "text": [
      "['Google', 'Microsoft', 'Apple', 'IBM', 'Oracle', 'Facebook']\n"
     ]
    }
   ],
   "source": [
    "# Remove the last IT company from the list\n",
    "\n",
    "it_companies.pop(-1)\n",
    "print(it_companies)"
   ]
  },
  {
   "cell_type": "code",
   "execution_count": 233,
   "id": "7c028511",
   "metadata": {},
   "outputs": [
    {
     "name": "stdout",
     "output_type": "stream",
     "text": [
      "[]\n"
     ]
    }
   ],
   "source": [
    "# Remove all IT companies from the list\n",
    "\n",
    "it_companies.clear()\n",
    "print(it_companies)"
   ]
  }
 ],
 "metadata": {
  "kernelspec": {
   "display_name": "Python 3 (ipykernel)",
   "language": "python",
   "name": "python3"
  },
  "language_info": {
   "codemirror_mode": {
    "name": "ipython",
    "version": 3
   },
   "file_extension": ".py",
   "mimetype": "text/x-python",
   "name": "python",
   "nbconvert_exporter": "python",
   "pygments_lexer": "ipython3",
   "version": "3.10.9"
  }
 },
 "nbformat": 4,
 "nbformat_minor": 5
}
