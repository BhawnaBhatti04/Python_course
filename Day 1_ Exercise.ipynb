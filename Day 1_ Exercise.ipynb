{
 "cells": [
  {
   "cell_type": "markdown",
   "id": "c3f96cf4",
   "metadata": {},
   "source": [
    "# 1. Check the python version you are using"
   ]
  },
  {
   "cell_type": "code",
   "execution_count": 3,
   "id": "06468adb",
   "metadata": {},
   "outputs": [
    {
     "name": "stdout",
     "output_type": "stream",
     "text": [
      "3.10.9\n"
     ]
    }
   ],
   "source": [
    "from platform import python_version\n",
    "print(python_version())"
   ]
  },
  {
   "cell_type": "code",
   "execution_count": 3,
   "id": "b5bb899e",
   "metadata": {},
   "outputs": [
    {
     "name": "stdout",
     "output_type": "stream",
     "text": [
      "3.10.9\n"
     ]
    }
   ],
   "source": []
  },
  {
   "cell_type": "markdown",
   "id": "87cdf9ff",
   "metadata": {},
   "source": [
    "# 2. Open the python interactive shell and do the following operations. The opeaddition(+)rands are 3 and 4.\n",
    "## *addition(+)"
   ]
  },
  {
   "cell_type": "code",
   "execution_count": 4,
   "id": "8b2e6bb3",
   "metadata": {},
   "outputs": [
    {
     "data": {
      "text/plain": [
       "7"
      ]
     },
     "execution_count": 4,
     "metadata": {},
     "output_type": "execute_result"
    }
   ],
   "source": [
    "3 + 4"
   ]
  },
  {
   "cell_type": "markdown",
   "id": "9bdb17c2",
   "metadata": {},
   "source": [
    "## *subtraction(-)"
   ]
  },
  {
   "cell_type": "code",
   "execution_count": 5,
   "id": "f827435e",
   "metadata": {},
   "outputs": [
    {
     "data": {
      "text/plain": [
       "-1"
      ]
     },
     "execution_count": 5,
     "metadata": {},
     "output_type": "execute_result"
    }
   ],
   "source": [
    "3 - 4"
   ]
  },
  {
   "cell_type": "markdown",
   "id": "a1fd00fc",
   "metadata": {},
   "source": [
    "## multiplication(*)"
   ]
  },
  {
   "cell_type": "code",
   "execution_count": 6,
   "id": "3b609dd0",
   "metadata": {},
   "outputs": [
    {
     "data": {
      "text/plain": [
       "12"
      ]
     },
     "execution_count": 6,
     "metadata": {},
     "output_type": "execute_result"
    }
   ],
   "source": [
    "3 * 4"
   ]
  },
  {
   "cell_type": "markdown",
   "id": "576baad1",
   "metadata": {},
   "source": [
    "## *modulus(%)"
   ]
  },
  {
   "cell_type": "code",
   "execution_count": 7,
   "id": "9543755c",
   "metadata": {},
   "outputs": [
    {
     "data": {
      "text/plain": [
       "3"
      ]
     },
     "execution_count": 7,
     "metadata": {},
     "output_type": "execute_result"
    }
   ],
   "source": [
    "3 % 4"
   ]
  },
  {
   "cell_type": "markdown",
   "id": "f9100129",
   "metadata": {},
   "source": [
    "## *division(/)"
   ]
  },
  {
   "cell_type": "code",
   "execution_count": 8,
   "id": "887c9d59",
   "metadata": {},
   "outputs": [
    {
     "data": {
      "text/plain": [
       "0.75"
      ]
     },
     "execution_count": 8,
     "metadata": {},
     "output_type": "execute_result"
    }
   ],
   "source": [
    "3 / 4"
   ]
  },
  {
   "cell_type": "markdown",
   "id": "721adb84",
   "metadata": {},
   "source": [
    "## exponential(**)\n"
   ]
  },
  {
   "cell_type": "code",
   "execution_count": 9,
   "id": "f2245bcc",
   "metadata": {},
   "outputs": [
    {
     "data": {
      "text/plain": [
       "81"
      ]
     },
     "execution_count": 9,
     "metadata": {},
     "output_type": "execute_result"
    }
   ],
   "source": [
    "3 ** 4"
   ]
  },
  {
   "cell_type": "markdown",
   "id": "7d906952",
   "metadata": {},
   "source": [
    "## *floor division operator(//)"
   ]
  },
  {
   "cell_type": "code",
   "execution_count": 10,
   "id": "7f449e94",
   "metadata": {},
   "outputs": [
    {
     "data": {
      "text/plain": [
       "0"
      ]
     },
     "execution_count": 10,
     "metadata": {},
     "output_type": "execute_result"
    }
   ],
   "source": [
    "3 // 4"
   ]
  },
  {
   "cell_type": "markdown",
   "id": "0d4e6097",
   "metadata": {},
   "source": [
    "# 3. Write strings on the python interactive shell. The strings are the following:\n",
    "## *Your name"
   ]
  },
  {
   "cell_type": "code",
   "execution_count": 11,
   "id": "fa792cf1",
   "metadata": {},
   "outputs": [
    {
     "name": "stdout",
     "output_type": "stream",
     "text": [
      "Bhawna Bhatti\n"
     ]
    }
   ],
   "source": [
    "my_name = \"Bhawna Bhatti\"\n",
    "print(my_name)"
   ]
  },
  {
   "cell_type": "code",
   "execution_count": 14,
   "id": "17549c09",
   "metadata": {},
   "outputs": [
    {
     "name": "stdout",
     "output_type": "stream",
     "text": [
      "Bhawna\n"
     ]
    }
   ],
   "source": [
    "first_name = \"Bhawna\"\n",
    "print(first_name)"
   ]
  },
  {
   "cell_type": "code",
   "execution_count": 17,
   "id": "2f2c62cf",
   "metadata": {},
   "outputs": [
    {
     "name": "stdout",
     "output_type": "stream",
     "text": [
      "Bhatti\n"
     ]
    }
   ],
   "source": [
    "last_name =\"Bhatti\"\n",
    "print(last_name)"
   ]
  },
  {
   "cell_type": "code",
   "execution_count": 18,
   "id": "2319711c",
   "metadata": {},
   "outputs": [
    {
     "name": "stdout",
     "output_type": "stream",
     "text": [
      "Bhawna Bhatti\n"
     ]
    }
   ],
   "source": [
    "print(first_name , last_name)"
   ]
  },
  {
   "cell_type": "markdown",
   "id": "06405c44",
   "metadata": {},
   "source": [
    "# #Your country"
   ]
  },
  {
   "cell_type": "code",
   "execution_count": 19,
   "id": "d3bb41f0",
   "metadata": {},
   "outputs": [
    {
     "name": "stdout",
     "output_type": "stream",
     "text": [
      "India\n"
     ]
    }
   ],
   "source": [
    "country_name = \"India\"\n",
    "print(country_name)"
   ]
  },
  {
   "cell_type": "markdown",
   "id": "2df851dc",
   "metadata": {},
   "source": [
    "## I am enjoying 30 days of python"
   ]
  },
  {
   "cell_type": "code",
   "execution_count": 20,
   "id": "2f9264c2",
   "metadata": {},
   "outputs": [
    {
     "name": "stdout",
     "output_type": "stream",
     "text": [
      "I am enjoying 30 days of python\n"
     ]
    }
   ],
   "source": [
    "print(\"I am enjoying 30 days of python\")"
   ]
  },
  {
   "cell_type": "markdown",
   "id": "2e0d7c36",
   "metadata": {},
   "source": [
    "## Check the data types of the following data:\n",
    "### 10"
   ]
  },
  {
   "cell_type": "code",
   "execution_count": 21,
   "id": "7c509620",
   "metadata": {},
   "outputs": [
    {
     "name": "stdout",
     "output_type": "stream",
     "text": [
      "<class 'int'>\n"
     ]
    }
   ],
   "source": [
    "print(type(10))"
   ]
  },
  {
   "cell_type": "markdown",
   "id": "77724598",
   "metadata": {},
   "source": [
    "### 9.8"
   ]
  },
  {
   "cell_type": "code",
   "execution_count": 22,
   "id": "ad73ae0c",
   "metadata": {},
   "outputs": [
    {
     "name": "stdout",
     "output_type": "stream",
     "text": [
      "<class 'float'>\n"
     ]
    }
   ],
   "source": [
    "print(type(9.8))"
   ]
  },
  {
   "cell_type": "markdown",
   "id": "f6256ed6",
   "metadata": {},
   "source": [
    "### 3.14"
   ]
  },
  {
   "cell_type": "code",
   "execution_count": 23,
   "id": "a95e641f",
   "metadata": {},
   "outputs": [
    {
     "name": "stdout",
     "output_type": "stream",
     "text": [
      "<class 'float'>\n"
     ]
    }
   ],
   "source": [
    "print(type(3.14))"
   ]
  },
  {
   "cell_type": "markdown",
   "id": "e02d4ab0",
   "metadata": {},
   "source": [
    "### 4 - 4j"
   ]
  },
  {
   "cell_type": "code",
   "execution_count": 24,
   "id": "a38b6c21",
   "metadata": {},
   "outputs": [
    {
     "name": "stdout",
     "output_type": "stream",
     "text": [
      "<class 'complex'>\n"
     ]
    }
   ],
   "source": [
    "print(type(4 - 4j))"
   ]
  },
  {
   "cell_type": "markdown",
   "id": "eb338f7d",
   "metadata": {},
   "source": [
    "### ['Asabeneh', 'Python', 'Finland']"
   ]
  },
  {
   "cell_type": "code",
   "execution_count": 25,
   "id": "acc6cadd",
   "metadata": {},
   "outputs": [
    {
     "name": "stdout",
     "output_type": "stream",
     "text": [
      "<class 'list'>\n"
     ]
    }
   ],
   "source": [
    "print(type(['Asabeneh', 'Python', 'Finland']))"
   ]
  },
  {
   "cell_type": "markdown",
   "id": "04411eee",
   "metadata": {},
   "source": [
    "### Your name"
   ]
  },
  {
   "cell_type": "code",
   "execution_count": 26,
   "id": "aa91d29c",
   "metadata": {},
   "outputs": [
    {
     "name": "stdout",
     "output_type": "stream",
     "text": [
      "<class 'str'>\n"
     ]
    }
   ],
   "source": [
    "print(type(my_name))"
   ]
  },
  {
   "cell_type": "code",
   "execution_count": 27,
   "id": "783f9552",
   "metadata": {},
   "outputs": [
    {
     "name": "stdout",
     "output_type": "stream",
     "text": [
      "<class 'str'>\n"
     ]
    }
   ],
   "source": [
    "print(type(first_name))"
   ]
  },
  {
   "cell_type": "code",
   "execution_count": 28,
   "id": "56ae2fe8",
   "metadata": {},
   "outputs": [
    {
     "name": "stdout",
     "output_type": "stream",
     "text": [
      "<class 'str'>\n"
     ]
    }
   ],
   "source": [
    "print(type(last_name))"
   ]
  },
  {
   "cell_type": "markdown",
   "id": "2584b75e",
   "metadata": {},
   "source": [
    "### Your country"
   ]
  },
  {
   "cell_type": "code",
   "execution_count": 34,
   "id": "f2133de6",
   "metadata": {},
   "outputs": [
    {
     "name": "stdout",
     "output_type": "stream",
     "text": [
      "<class 'str'>\n"
     ]
    }
   ],
   "source": [
    "print(type(country_name))"
   ]
  },
  {
   "cell_type": "code",
   "execution_count": null,
   "id": "2fdd3061",
   "metadata": {},
   "outputs": [],
   "source": []
  }
 ],
 "metadata": {
  "kernelspec": {
   "display_name": "Python 3 (ipykernel)",
   "language": "python",
   "name": "python3"
  },
  "language_info": {
   "codemirror_mode": {
    "name": "ipython",
    "version": 3
   },
   "file_extension": ".py",
   "mimetype": "text/x-python",
   "name": "python",
   "nbconvert_exporter": "python",
   "pygments_lexer": "ipython3",
   "version": "3.10.9"
  }
 },
 "nbformat": 4,
 "nbformat_minor": 5
}
