{
 "cells": [
  {
   "cell_type": "code",
   "execution_count": 5,
   "id": "d24cb9c7",
   "metadata": {},
   "outputs": [
    {
     "name": "stdout",
     "output_type": "stream",
     "text": [
      "()\n"
     ]
    }
   ],
   "source": [
    "# Create an empty tuple\n",
    "empty_tpl = ()\n",
    "print(empty_tpl)"
   ]
  },
  {
   "cell_type": "code",
   "execution_count": 6,
   "id": "590e1d3a",
   "metadata": {},
   "outputs": [
    {
     "name": "stdout",
     "output_type": "stream",
     "text": [
      "('Anna', 'Eva', 'Reeva')\n",
      "('Leo', 'Max', 'Sid')\n"
     ]
    }
   ],
   "source": [
    "# Create a tuple containing names of your sisters and your brothers (imaginary siblings are fine)\n",
    "sisters = ('Anna' , 'Eva' , 'Reeva')\n",
    "brothers = ('Leo' , 'Max' , 'Sid')\n",
    "print(sisters)\n",
    "print(brothers)"
   ]
  },
  {
   "cell_type": "code",
   "execution_count": 7,
   "id": "72f43c6e",
   "metadata": {},
   "outputs": [
    {
     "data": {
      "text/plain": [
       "tuple"
      ]
     },
     "execution_count": 7,
     "metadata": {},
     "output_type": "execute_result"
    }
   ],
   "source": [
    "type(sisters)\n",
    "type(brothers)"
   ]
  },
  {
   "cell_type": "code",
   "execution_count": 8,
   "id": "aea8dcc1",
   "metadata": {},
   "outputs": [
    {
     "name": "stdout",
     "output_type": "stream",
     "text": [
      "('Anna', 'Eva', 'Reeva', 'Leo', 'Max', 'Sid')\n"
     ]
    }
   ],
   "source": [
    "# Join brothers and sisters tuples and assign it to siblings\n",
    "siblings = sisters + brothers\n",
    "print(siblings)"
   ]
  },
  {
   "cell_type": "code",
   "execution_count": 9,
   "id": "ada6d2db",
   "metadata": {},
   "outputs": [
    {
     "name": "stdout",
     "output_type": "stream",
     "text": [
      "6\n"
     ]
    }
   ],
   "source": [
    "# How many siblings do you have?\n",
    "print(len(siblings))"
   ]
  },
  {
   "cell_type": "code",
   "execution_count": 10,
   "id": "41a11c32",
   "metadata": {},
   "outputs": [
    {
     "name": "stdout",
     "output_type": "stream",
     "text": [
      "('Jack', 'Ava')\n"
     ]
    }
   ],
   "source": [
    "# Modify the siblings tuple and add the name of your father and mother and assign it to family_members\n",
    "# 1st method\n",
    "\n",
    "add_name = ('Jack' , 'Ava')\n",
    "print(add_name)"
   ]
  },
  {
   "cell_type": "code",
   "execution_count": 11,
   "id": "4fbd19c1",
   "metadata": {},
   "outputs": [
    {
     "name": "stdout",
     "output_type": "stream",
     "text": [
      "('Jack', 'Ava', 'Anna', 'Eva', 'Reeva', 'Leo', 'Max', 'Sid')\n"
     ]
    }
   ],
   "source": [
    "f_members = add_name + siblings \n",
    "print(f_members)"
   ]
  },
  {
   "cell_type": "code",
   "execution_count": 35,
   "id": "bf38f3b1",
   "metadata": {},
   "outputs": [
    {
     "name": "stdout",
     "output_type": "stream",
     "text": [
      "('Anna', 'Eva', 'Reeva', 'Leo', 'Max', 'Sid')\n"
     ]
    }
   ],
   "source": [
    "# Join brothers and sisters tuples and assign it to siblings\n",
    "siblings = sisters + brothers\n",
    "print(siblings)"
   ]
  },
  {
   "cell_type": "code",
   "execution_count": 36,
   "id": "5417f207",
   "metadata": {},
   "outputs": [
    {
     "name": "stdout",
     "output_type": "stream",
     "text": [
      "['Anna', 'Eva', 'Reeva', 'Leo', 'Max', 'Sid']\n"
     ]
    }
   ],
   "source": [
    "# Modify the siblings tuple and add the name of your father and mother and assign it to family_members\n",
    "# 2nd method\n",
    "siblings = list(siblings)\n",
    "print(siblings)\n"
   ]
  },
  {
   "cell_type": "code",
   "execution_count": 37,
   "id": "bbd3583a",
   "metadata": {},
   "outputs": [
    {
     "data": {
      "text/plain": [
       "list"
      ]
     },
     "execution_count": 37,
     "metadata": {},
     "output_type": "execute_result"
    }
   ],
   "source": [
    "type(siblings)"
   ]
  },
  {
   "cell_type": "code",
   "execution_count": 38,
   "id": "8cfacd0c",
   "metadata": {},
   "outputs": [
    {
     "name": "stdout",
     "output_type": "stream",
     "text": [
      "['Anna', 'Eva', 'Reeva', 'Leo', 'Max', 'Sid', 'Ava', 'Jack']\n"
     ]
    }
   ],
   "source": [
    "siblings.append('Ava')\n",
    "siblings.append('Jack')\n",
    "print(siblings)"
   ]
  },
  {
   "cell_type": "code",
   "execution_count": 41,
   "id": "31b08d1e",
   "metadata": {},
   "outputs": [
    {
     "name": "stdout",
     "output_type": "stream",
     "text": [
      "('Anna', 'Eva', 'Reeva', 'Leo', 'Max', 'Sid', 'Ava', 'Jack')\n"
     ]
    }
   ],
   "source": [
    "siblings = tuple(siblings)\n",
    "print(siblings)"
   ]
  },
  {
   "cell_type": "code",
   "execution_count": 42,
   "id": "bb9dc8e2",
   "metadata": {},
   "outputs": [
    {
     "data": {
      "text/plain": [
       "tuple"
      ]
     },
     "execution_count": 42,
     "metadata": {},
     "output_type": "execute_result"
    }
   ],
   "source": [
    "type(siblings)"
   ]
  },
  {
   "cell_type": "code",
   "execution_count": 43,
   "id": "cadd8096",
   "metadata": {},
   "outputs": [
    {
     "name": "stdout",
     "output_type": "stream",
     "text": [
      "('Anna', 'Eva', 'Reeva', 'Leo', 'Max', 'Sid', 'Ava', 'Jack')\n"
     ]
    }
   ],
   "source": [
    "# Unpack siblings and parents from family_members\n",
    "\n",
    "print(siblings)"
   ]
  },
  {
   "cell_type": "code",
   "execution_count": 54,
   "id": "6295400b",
   "metadata": {},
   "outputs": [
    {
     "name": "stdout",
     "output_type": "stream",
     "text": [
      "Anna Eva Reeva\n",
      "Leo Max Sid\n",
      "Ava Jack\n"
     ]
    }
   ],
   "source": [
    "(Anna , Eva , Reeva , Leo , Max , Sid , Ava , Jack) = siblings\n",
    "print(Anna , Eva , Reeva) \n",
    "print(Leo , Max , Sid)\n",
    "print(Ava , Jack)"
   ]
  },
  {
   "cell_type": "code",
   "execution_count": 55,
   "id": "b446afc6",
   "metadata": {},
   "outputs": [
    {
     "data": {
      "text/plain": [
       "str"
      ]
     },
     "execution_count": 55,
     "metadata": {},
     "output_type": "execute_result"
    }
   ],
   "source": [
    "type(Anna)"
   ]
  },
  {
   "cell_type": "code",
   "execution_count": 56,
   "id": "4607062f",
   "metadata": {},
   "outputs": [
    {
     "name": "stdout",
     "output_type": "stream",
     "text": [
      "('banana', 'orange', 'mango', 'Tomato', 'Potato', 'Cabbage', 'Milk', 'Eggs', 'Meat')\n"
     ]
    }
   ],
   "source": [
    "# Create fruits, vegetables and animal products tuples. Join the three tuples and assign it to a variable called food_stuff_tp\n",
    "\n",
    "fruits = ('banana', 'orange', 'mango')\n",
    "vegetables = ('Tomato', 'Potato', 'Cabbage')\n",
    "animal_products = ('Milk' , 'Eggs' , 'Meat')\n",
    "food_stuff_tp = fruits + vegetables + animal_products\n",
    "print(food_stuff_tp)"
   ]
  },
  {
   "cell_type": "code",
   "execution_count": 78,
   "id": "fbd50d8c",
   "metadata": {},
   "outputs": [
    {
     "name": "stdout",
     "output_type": "stream",
     "text": [
      "('banana', 'orange', 'mango', 'Tomato', 'Potato', 'Cabbage', 'Milk', 'Eggs', 'Meat')\n"
     ]
    }
   ],
   "source": [
    "print(food_stuff_tp)"
   ]
  },
  {
   "cell_type": "code",
   "execution_count": 58,
   "id": "7db727ff",
   "metadata": {},
   "outputs": [
    {
     "name": "stdout",
     "output_type": "stream",
     "text": [
      "['banana', 'orange', 'mango', 'Tomato', 'Potato', 'Cabbage', 'Milk', 'Eggs', 'Meat']\n"
     ]
    }
   ],
   "source": [
    "# Change the about food_stuff_tp tuple to a food_stuff_lt list\n",
    "\n",
    "food_stuff_lt = list(food_stuff_tp)\n",
    "print(food_stuff_lt)"
   ]
  },
  {
   "cell_type": "code",
   "execution_count": 59,
   "id": "085eaf96",
   "metadata": {},
   "outputs": [
    {
     "data": {
      "text/plain": [
       "list"
      ]
     },
     "execution_count": 59,
     "metadata": {},
     "output_type": "execute_result"
    }
   ],
   "source": [
    "type(food_stuff_lt)"
   ]
  },
  {
   "cell_type": "code",
   "execution_count": 76,
   "id": "e3b9fc5f",
   "metadata": {},
   "outputs": [
    {
     "data": {
      "text/plain": [
       "'Potato'"
      ]
     },
     "execution_count": 76,
     "metadata": {},
     "output_type": "execute_result"
    }
   ],
   "source": [
    "# Slice out the middle item or items from the food_stuff_tp tuple or food_stuff_lt list\n",
    "\n",
    "food_stuff_lt[4]"
   ]
  },
  {
   "cell_type": "code",
   "execution_count": 77,
   "id": "67b1821f",
   "metadata": {},
   "outputs": [
    {
     "data": {
      "text/plain": [
       "'Potato'"
      ]
     },
     "execution_count": 77,
     "metadata": {},
     "output_type": "execute_result"
    }
   ],
   "source": [
    "food_stuff_lt[-5]"
   ]
  },
  {
   "cell_type": "code",
   "execution_count": 78,
   "id": "caf5abab",
   "metadata": {},
   "outputs": [
    {
     "name": "stdout",
     "output_type": "stream",
     "text": [
      "('banana', 'orange', 'mango', 'Tomato', 'Potato', 'Cabbage', 'Milk', 'Eggs', 'Meat')\n"
     ]
    }
   ],
   "source": [
    "print(food_stuff_tp)"
   ]
  },
  {
   "cell_type": "code",
   "execution_count": 79,
   "id": "f309fc4c",
   "metadata": {},
   "outputs": [
    {
     "data": {
      "text/plain": [
       "'Potato'"
      ]
     },
     "execution_count": 79,
     "metadata": {},
     "output_type": "execute_result"
    }
   ],
   "source": [
    "food_stuff_tp[4]"
   ]
  },
  {
   "cell_type": "code",
   "execution_count": 80,
   "id": "1b0f4397",
   "metadata": {},
   "outputs": [
    {
     "data": {
      "text/plain": [
       "'Potato'"
      ]
     },
     "execution_count": 80,
     "metadata": {},
     "output_type": "execute_result"
    }
   ],
   "source": [
    "food_stuff_tp[-5]"
   ]
  },
  {
   "cell_type": "code",
   "execution_count": 84,
   "id": "230f7ead",
   "metadata": {},
   "outputs": [
    {
     "data": {
      "text/plain": [
       "['banana', 'orange', 'mango']"
      ]
     },
     "execution_count": 84,
     "metadata": {},
     "output_type": "execute_result"
    }
   ],
   "source": [
    "# Slice out the first three items and the last three items from food_staff_lt list\n",
    "\n",
    "food_stuff_lt[0:3]"
   ]
  },
  {
   "cell_type": "code",
   "execution_count": 85,
   "id": "63450e16",
   "metadata": {},
   "outputs": [
    {
     "data": {
      "text/plain": [
       "['Cabbage', 'Milk', 'Eggs']"
      ]
     },
     "execution_count": 85,
     "metadata": {},
     "output_type": "execute_result"
    }
   ],
   "source": [
    "food_stuff_lt[5:8]"
   ]
  },
  {
   "cell_type": "code",
   "execution_count": 101,
   "id": "c88fdae0",
   "metadata": {},
   "outputs": [
    {
     "data": {
      "text/plain": [
       "('banana', 'orange', 'mango')"
      ]
     },
     "execution_count": 101,
     "metadata": {},
     "output_type": "execute_result"
    }
   ],
   "source": [
    "food_stuff_tp[-9:-6]"
   ]
  },
  {
   "cell_type": "code",
   "execution_count": 100,
   "id": "ab0cc16e",
   "metadata": {},
   "outputs": [
    {
     "data": {
      "text/plain": [
       "('Milk', 'Eggs', 'Meat')"
      ]
     },
     "execution_count": 100,
     "metadata": {},
     "output_type": "execute_result"
    }
   ],
   "source": [
    "food_stuff_tp[-3:]"
   ]
  },
  {
   "cell_type": "code",
   "execution_count": 102,
   "id": "86b7c740",
   "metadata": {},
   "outputs": [],
   "source": [
    "# Delete the food_staff_tp tuple completely\n",
    "\n",
    "del food_stuff_tp"
   ]
  },
  {
   "cell_type": "code",
   "execution_count": 103,
   "id": "2dd4bcaa",
   "metadata": {},
   "outputs": [
    {
     "ename": "NameError",
     "evalue": "name 'food_stuff_tp' is not defined",
     "output_type": "error",
     "traceback": [
      "\u001b[1;31m---------------------------------------------------------------------------\u001b[0m",
      "\u001b[1;31mNameError\u001b[0m                                 Traceback (most recent call last)",
      "Cell \u001b[1;32mIn[103], line 1\u001b[0m\n\u001b[1;32m----> 1\u001b[0m \u001b[38;5;28mprint\u001b[39m(\u001b[43mfood_stuff_tp\u001b[49m)\n",
      "\u001b[1;31mNameError\u001b[0m: name 'food_stuff_tp' is not defined"
     ]
    }
   ],
   "source": [
    "print(food_stuff_tp)"
   ]
  },
  {
   "cell_type": "code",
   "execution_count": 104,
   "id": "3840cfb6",
   "metadata": {},
   "outputs": [],
   "source": [
    "# Check if an item exists in tuple:\n",
    "# Check if 'Estonia' is a nordic country\n",
    "# Check if 'Iceland' is a nordic country\n",
    "\n",
    "nordic_countries = ('Denmark', 'Finland','Iceland', 'Norway', 'Sweden')"
   ]
  },
  {
   "cell_type": "code",
   "execution_count": 108,
   "id": "2c693e2f",
   "metadata": {},
   "outputs": [
    {
     "data": {
      "text/plain": [
       "False"
      ]
     },
     "execution_count": 108,
     "metadata": {},
     "output_type": "execute_result"
    }
   ],
   "source": [
    "# Check if 'Estonia' is a nordic country\n",
    "'Estonia' in nordic_countries"
   ]
  },
  {
   "cell_type": "code",
   "execution_count": 107,
   "id": "6634357d",
   "metadata": {},
   "outputs": [
    {
     "data": {
      "text/plain": [
       "True"
      ]
     },
     "execution_count": 107,
     "metadata": {},
     "output_type": "execute_result"
    }
   ],
   "source": [
    "# Check if 'Iceland' is a nordic country\n",
    "'Iceland' in nordic_countries"
   ]
  },
  {
   "cell_type": "code",
   "execution_count": null,
   "id": "17e15ff8",
   "metadata": {},
   "outputs": [],
   "source": []
  }
 ],
 "metadata": {
  "kernelspec": {
   "display_name": "Python 3 (ipykernel)",
   "language": "python",
   "name": "python3"
  },
  "language_info": {
   "codemirror_mode": {
    "name": "ipython",
    "version": 3
   },
   "file_extension": ".py",
   "mimetype": "text/x-python",
   "name": "python",
   "nbconvert_exporter": "python",
   "pygments_lexer": "ipython3",
   "version": "3.10.9"
  }
 },
 "nbformat": 4,
 "nbformat_minor": 5
}
