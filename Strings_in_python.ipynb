{
 "cells": [
  {
   "cell_type": "code",
   "execution_count": 5,
   "id": "7452b580",
   "metadata": {},
   "outputs": [
    {
     "name": "stdout",
     "output_type": "stream",
     "text": [
      "Thirty Days Of Python\n"
     ]
    }
   ],
   "source": [
    "# Concatenate the string 'Thirty', 'Days', 'Of', 'Python' to a single string, 'Thirty Days Of Python'.\n",
    "\n",
    "a = \"Thirty\" \n",
    "b = \"Days\"\n",
    "c = \"Of\"\n",
    "d = \"Python\"\n",
    "space = \" \"\n",
    "single_string = a + space + b + space + c + space + d\n",
    "print(single_string)\n"
   ]
  },
  {
   "cell_type": "code",
   "execution_count": 7,
   "id": "8ea07734",
   "metadata": {},
   "outputs": [
    {
     "name": "stdout",
     "output_type": "stream",
     "text": [
      "Thirty Days Of Python\n"
     ]
    }
   ],
   "source": [
    "# String Formatting (% Operator)\n",
    "\n",
    "single_string = \"%s %s %s %s\"%(a, b, c, d)\n",
    "print(single_string)"
   ]
  },
  {
   "cell_type": "code",
   "execution_count": 12,
   "id": "5e522e55",
   "metadata": {},
   "outputs": [
    {
     "name": "stdout",
     "output_type": "stream",
     "text": [
      "Thirty Days Of Python\n"
     ]
    }
   ],
   "source": [
    "# String Formatting (str.format)\n",
    "\n",
    "single_string = \"{} {} {} {}\".format(a, b, c, d)\n",
    "print(single_string)"
   ]
  },
  {
   "cell_type": "code",
   "execution_count": 13,
   "id": "3f84299c",
   "metadata": {},
   "outputs": [
    {
     "name": "stdout",
     "output_type": "stream",
     "text": [
      "Thirty Days Of Python\n"
     ]
    }
   ],
   "source": [
    "#String Interpolation / f-Strings\n",
    "\n",
    "single_string = f\"{a} {b} {c} {d}\"\n",
    "print(single_string)"
   ]
  },
  {
   "cell_type": "code",
   "execution_count": 14,
   "id": "b5e0fe0e",
   "metadata": {},
   "outputs": [
    {
     "name": "stdout",
     "output_type": "stream",
     "text": [
      "Coding For All\n"
     ]
    }
   ],
   "source": [
    "# Concatenate the string 'Coding', 'For' , 'All' to a single string, 'Coding For All'.\n",
    "\n",
    "x = \"Coding\" \n",
    "y = \"For\" \n",
    "z = \"All\" \n",
    "sentence = f\"{x} {y} {z}\"\n",
    "print(sentence)"
   ]
  },
  {
   "cell_type": "code",
   "execution_count": 15,
   "id": "cbdac991",
   "metadata": {},
   "outputs": [
    {
     "name": "stdout",
     "output_type": "stream",
     "text": [
      "Coding For All\n"
     ]
    }
   ],
   "source": [
    "# Declare a variable named company and assign it to an initial value \"Coding For All\".\n",
    "# Print the variable company using print().\n",
    "company = sentence\n",
    "print(company)"
   ]
  },
  {
   "cell_type": "code",
   "execution_count": 16,
   "id": "84074f45",
   "metadata": {},
   "outputs": [
    {
     "name": "stdout",
     "output_type": "stream",
     "text": [
      "14\n"
     ]
    }
   ],
   "source": [
    "# Print the length of the company string using len() method and print().\n",
    "\n",
    "print(len(company))"
   ]
  },
  {
   "cell_type": "code",
   "execution_count": 17,
   "id": "b93a2720",
   "metadata": {},
   "outputs": [
    {
     "name": "stdout",
     "output_type": "stream",
     "text": [
      "CODING FOR ALL\n"
     ]
    }
   ],
   "source": [
    "# Change all the characters to uppercase letters using upper() method.\n",
    "\n",
    "print(company.upper())"
   ]
  },
  {
   "cell_type": "code",
   "execution_count": 18,
   "id": "19ecd411",
   "metadata": {},
   "outputs": [
    {
     "name": "stdout",
     "output_type": "stream",
     "text": [
      "coding for all\n"
     ]
    }
   ],
   "source": [
    "# Change all the characters to lowercase letters using lower() method.\n",
    "\n",
    "print(company.lower())"
   ]
  },
  {
   "cell_type": "code",
   "execution_count": 19,
   "id": "85bf8463",
   "metadata": {},
   "outputs": [
    {
     "name": "stdout",
     "output_type": "stream",
     "text": [
      "Coding for all\n",
      "Coding For All\n",
      "cODING fOR aLL\n"
     ]
    }
   ],
   "source": [
    "# Use capitalize(), title(), swapcase() methods to format the value of the string Coding For All.\n",
    "\n",
    "print(company.capitalize())\n",
    "print(company.title())\n",
    "print(company.swapcase())"
   ]
  },
  {
   "cell_type": "code",
   "execution_count": 32,
   "id": "5811c7ae",
   "metadata": {},
   "outputs": [
    {
     "name": "stdout",
     "output_type": "stream",
     "text": [
      "oding For All\n"
     ]
    }
   ],
   "source": [
    "# Cut out the first word of Coding For All string.\n",
    "\n",
    "print(company.strip('C'))"
   ]
  },
  {
   "cell_type": "code",
   "execution_count": 49,
   "id": "f7c8062a",
   "metadata": {},
   "outputs": [
    {
     "name": "stdout",
     "output_type": "stream",
     "text": [
      "2\n"
     ]
    }
   ],
   "source": [
    "# index method \n",
    "\n",
    "challenge = \"Coding For All\" \n",
    "sub_string = \"d\"\n",
    "print(challenge.index(sub_string))"
   ]
  },
  {
   "cell_type": "code",
   "execution_count": 51,
   "id": "50da8f4e",
   "metadata": {},
   "outputs": [
    {
     "name": "stdout",
     "output_type": "stream",
     "text": [
      "Python For All\n"
     ]
    }
   ],
   "source": [
    "# Replace the word \n",
    "\n",
    "challenge = \"Coding For All\"\n",
    "print(challenge.replace(\"Coding\" , \"Python\"))"
   ]
  },
  {
   "cell_type": "code",
   "execution_count": 58,
   "id": "8415cf6e",
   "metadata": {},
   "outputs": [
    {
     "name": "stdout",
     "output_type": "stream",
     "text": [
      "Everyon to python for All\n"
     ]
    }
   ],
   "source": [
    "word = \"python for All\"\n",
    "print(word.replace(\"python\" , \"Everyone to python\"))"
   ]
  },
  {
   "cell_type": "code",
   "execution_count": 59,
   "id": "9cd04281",
   "metadata": {},
   "outputs": [
    {
     "name": "stdout",
     "output_type": "stream",
     "text": [
      "['Coding', 'For', 'All']\n"
     ]
    }
   ],
   "source": [
    "# Split the string \n",
    "\n",
    "print(sentence.split())"
   ]
  },
  {
   "cell_type": "code",
   "execution_count": 60,
   "id": "76495886",
   "metadata": {},
   "outputs": [
    {
     "name": "stdout",
     "output_type": "stream",
     "text": [
      "['Coding For All']\n"
     ]
    }
   ],
   "source": [
    "print(sentence.split(','))"
   ]
  },
  {
   "cell_type": "code",
   "execution_count": 62,
   "id": "9f8933c5",
   "metadata": {},
   "outputs": [
    {
     "name": "stdout",
     "output_type": "stream",
     "text": [
      "['Facebook', 'Google', 'Microsoft', 'Apple', 'IBM', 'Oracle', 'Amazon']\n"
     ]
    }
   ],
   "source": [
    "w = \"Facebook Google Microsoft Apple IBM Oracle Amazon\" \n",
    "print(w.split())"
   ]
  },
  {
   "cell_type": "code",
   "execution_count": 63,
   "id": "501de96e",
   "metadata": {},
   "outputs": [
    {
     "name": "stdout",
     "output_type": "stream",
     "text": [
      "['Facebook Google Microsoft Apple IBM Oracle Amazon']\n"
     ]
    }
   ],
   "source": [
    "print(w.split(','))"
   ]
  },
  {
   "cell_type": "code",
   "execution_count": 71,
   "id": "83335abd",
   "metadata": {},
   "outputs": [
    {
     "name": "stdout",
     "output_type": "stream",
     "text": [
      "0\n"
     ]
    }
   ],
   "source": [
    "# What is the character at index 0\n",
    "\n",
    "challenge = \"Coding For All\" \n",
    "sub_string = \"C\"\n",
    "print(challenge.index(sub_string))"
   ]
  },
  {
   "cell_type": "code",
   "execution_count": 76,
   "id": "ba28b11f",
   "metadata": {},
   "outputs": [
    {
     "name": "stdout",
     "output_type": "stream",
     "text": [
      "12\n"
     ]
    }
   ],
   "source": [
    "challenge = \"Coding For All\" \n",
    "sub_string = \"l\"\n",
    "print(challenge.index(sub_string))"
   ]
  },
  {
   "cell_type": "code",
   "execution_count": 89,
   "id": "ffb861f8",
   "metadata": {},
   "outputs": [
    {
     "name": "stdout",
     "output_type": "stream",
     "text": [
      "8\n"
     ]
    }
   ],
   "source": [
    "challenge = \"Coding For All\" \n",
    "sub_string = \"or\"\n",
    "print(challenge.index(sub_string))"
   ]
  },
  {
   "cell_type": "code",
   "execution_count": 95,
   "id": "4d738c50",
   "metadata": {},
   "outputs": [
    {
     "name": "stdout",
     "output_type": "stream",
     "text": [
      "8 + 6 = 14\n",
      "8 - 6 = 2\n",
      "8 * 6 = 48\n",
      "8 / 6 = 1.33\n",
      "8 % 6 = 2\n",
      "8 // 6 = 1\n",
      "8 ** 6 = 262144\n"
     ]
    }
   ],
   "source": [
    "num_1 = 8\n",
    "num_2 = 6\n",
    "print(f\"{num_1} + {num_2} = {num_1 + num_2}\")\n",
    "print(f\"{num_1} - {num_2} = {num_1 - num_2}\")\n",
    "print(f\"{num_1} * {num_2} = {num_1 * num_2}\")\n",
    "print(f\"{num_1} / {num_2} = {num_1 / num_2:.2f}\")\n",
    "print(f\"{num_1} % {num_2} = {num_1 % num_2}\")\n",
    "print(f\"{num_1} // {num_2} = {num_1 // num_2}\")\n",
    "print(f\"{num_1} ** {num_2} = {num_1 ** num_2}\")"
   ]
  },
  {
   "cell_type": "code",
   "execution_count": 98,
   "id": "f40fb4d1",
   "metadata": {},
   "outputs": [
    {
     "name": "stdout",
     "output_type": "stream",
     "text": [
      "The area of a circle with radius 10 is 314.0 meters square.\n"
     ]
    }
   ],
   "source": [
    "radius = 10\n",
    "area = 3.14 * radius ** 2\n",
    "output = f\"The area of a circle with radius {radius} is {area} meters square.\"\n",
    "print(output)"
   ]
  },
  {
   "cell_type": "code",
   "execution_count": 1,
   "id": "fbd5914c",
   "metadata": {},
   "outputs": [
    {
     "name": "stdout",
     "output_type": "stream",
     "text": [
      "L\n",
      "e\n",
      "o\n"
     ]
    }
   ],
   "source": [
    "# Unpackin characters\n",
    "name = \"Leo\"\n",
    "a,b,c = name\n",
    "print(a)\n",
    "print(b)\n",
    "print(c)"
   ]
  }
 ],
 "metadata": {
  "kernelspec": {
   "display_name": "Python 3",
   "language": "python",
   "name": "python3"
  },
  "language_info": {
   "codemirror_mode": {
    "name": "ipython",
    "version": 3
   },
   "file_extension": ".py",
   "mimetype": "text/x-python",
   "name": "python",
   "nbconvert_exporter": "python",
   "pygments_lexer": "ipython3",
   "version": "3.10.9"
  },
  "vscode": {
   "interpreter": {
    "hash": "c232645b8e5c66c3215355c2048a05b58982f2bf34ae233170b2f84ea9cf47d4"
   }
  }
 },
 "nbformat": 4,
 "nbformat_minor": 5
}
